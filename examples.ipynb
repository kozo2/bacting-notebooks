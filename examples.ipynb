{
  "nbformat": 4,
  "nbformat_minor": 0,
  "metadata": {
    "colab": {
      "name": "examples.ipynb",
      "private_outputs": true,
      "provenance": [],
      "authorship_tag": "ABX9TyM/+gGt0OQkGa5qwtaht6p8",
      "include_colab_link": true
    },
    "kernelspec": {
      "name": "python3",
      "display_name": "Python 3"
    },
    "language_info": {
      "name": "python"
    }
  },
  "cells": [
    {
      "cell_type": "markdown",
      "metadata": {
        "id": "view-in-github",
        "colab_type": "text"
      },
      "source": [
        "<a href=\"https://colab.research.google.com/github/kozo2/bacting-notebooks/blob/main/examples.ipynb\" target=\"_parent\"><img src=\"https://colab.research.google.com/assets/colab-badge.svg\" alt=\"Open In Colab\"/></a>"
      ]
    },
    {
      "cell_type": "code",
      "metadata": {
        "id": "AD0NcfCtgqfP"
      },
      "source": [
        "!apt install maven"
      ],
      "execution_count": null,
      "outputs": []
    },
    {
      "cell_type": "code",
      "metadata": {
        "id": "rivsLeppgsF1"
      },
      "source": [
        "!pip install pybacting"
      ],
      "execution_count": null,
      "outputs": []
    },
    {
      "cell_type": "code",
      "metadata": {
        "id": "tPdd2M2Ng1iG"
      },
      "source": [
        "from pybacting import cdk\n"
      ],
      "execution_count": null,
      "outputs": []
    },
    {
      "cell_type": "code",
      "metadata": {
        "id": "Ml_LegHyg7Nx"
      },
      "source": [
        "print(cdk.fromSMILES(\"COC\"))"
      ],
      "execution_count": null,
      "outputs": []
    },
    {
      "cell_type": "code",
      "metadata": {
        "id": "hlW6LdehhKGF"
      },
      "source": [
        "from scyjava import config, jimport\n",
        "config.add_endpoints('io.github.egonw.bacting:managers-cdk:0.0.20')\n",
        "\n",
        "workspaceRoot = \".\"\n",
        "cdkClass = jimport(\"net.bioclipse.managers.CDKManager\")\n",
        "cdk = cdkClass(workspaceRoot)\n",
        "\n",
        "print(cdk.fromSMILES(\"COC\"))"
      ],
      "execution_count": null,
      "outputs": []
    },
    {
      "cell_type": "code",
      "metadata": {
        "id": "5E8Nzjhfizsc"
      },
      "source": [
        "dir(cdk)"
      ],
      "execution_count": null,
      "outputs": []
    },
    {
      "cell_type": "code",
      "metadata": {
        "id": "PEqntnjfi_b0"
      },
      "source": [
        "cdk.isValidCAS(\"50-00-0\")"
      ],
      "execution_count": null,
      "outputs": []
    },
    {
      "cell_type": "code",
      "metadata": {
        "id": "Q_9Z2F6pj-QD"
      },
      "source": [
        ""
      ],
      "execution_count": null,
      "outputs": []
    }
  ]
}